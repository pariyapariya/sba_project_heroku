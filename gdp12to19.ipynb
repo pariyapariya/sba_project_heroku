{
 "cells": [
  {
   "cell_type": "code",
   "execution_count": 2,
   "metadata": {},
   "outputs": [],
   "source": [
    "import json\n",
    "import pandas as pd"
   ]
  },
  {
   "cell_type": "code",
   "execution_count": 3,
   "metadata": {},
   "outputs": [],
   "source": [
    "data = pd.read_csv('gdp/gdp12_19.csv')"
   ]
  },
  {
   "cell_type": "code",
   "execution_count": 5,
   "metadata": {},
   "outputs": [
    {
     "data": {
      "text/html": [
       "<div>\n",
       "<style scoped>\n",
       "    .dataframe tbody tr th:only-of-type {\n",
       "        vertical-align: middle;\n",
       "    }\n",
       "\n",
       "    .dataframe tbody tr th {\n",
       "        vertical-align: top;\n",
       "    }\n",
       "\n",
       "    .dataframe thead th {\n",
       "        text-align: right;\n",
       "    }\n",
       "</style>\n",
       "<table border=\"1\" class=\"dataframe\">\n",
       "  <thead>\n",
       "    <tr style=\"text-align: right;\">\n",
       "      <th></th>\n",
       "      <th>States</th>\n",
       "      <th>2012</th>\n",
       "      <th>2013</th>\n",
       "      <th>2014</th>\n",
       "      <th>2015</th>\n",
       "      <th>2016</th>\n",
       "      <th>2017</th>\n",
       "      <th>2018</th>\n",
       "      <th>2019</th>\n",
       "    </tr>\n",
       "  </thead>\n",
       "  <tbody>\n",
       "    <tr>\n",
       "      <th>0</th>\n",
       "      <td>Alabama</td>\n",
       "      <td>38687</td>\n",
       "      <td>38957</td>\n",
       "      <td>38591</td>\n",
       "      <td>39020</td>\n",
       "      <td>39211</td>\n",
       "      <td>39599</td>\n",
       "      <td>40599</td>\n",
       "      <td>41389</td>\n",
       "    </tr>\n",
       "    <tr>\n",
       "      <th>1</th>\n",
       "      <td>Alaska</td>\n",
       "      <td>78952</td>\n",
       "      <td>74281</td>\n",
       "      <td>72354</td>\n",
       "      <td>72948</td>\n",
       "      <td>71091</td>\n",
       "      <td>71282</td>\n",
       "      <td>72221</td>\n",
       "      <td>74422</td>\n",
       "    </tr>\n",
       "    <tr>\n",
       "      <th>2</th>\n",
       "      <td>Arizona</td>\n",
       "      <td>40929</td>\n",
       "      <td>40729</td>\n",
       "      <td>40663</td>\n",
       "      <td>41031</td>\n",
       "      <td>41669</td>\n",
       "      <td>42505</td>\n",
       "      <td>43546</td>\n",
       "      <td>44161</td>\n",
       "    </tr>\n",
       "    <tr>\n",
       "      <th>3</th>\n",
       "      <td>Arkansas</td>\n",
       "      <td>36836</td>\n",
       "      <td>37771</td>\n",
       "      <td>38058</td>\n",
       "      <td>38233</td>\n",
       "      <td>38309</td>\n",
       "      <td>38432</td>\n",
       "      <td>38971</td>\n",
       "      <td>39580</td>\n",
       "    </tr>\n",
       "    <tr>\n",
       "      <th>4</th>\n",
       "      <td>California</td>\n",
       "      <td>56510</td>\n",
       "      <td>58046</td>\n",
       "      <td>59915</td>\n",
       "      <td>62403</td>\n",
       "      <td>63853</td>\n",
       "      <td>66331</td>\n",
       "      <td>68970</td>\n",
       "      <td>70662</td>\n",
       "    </tr>\n",
       "  </tbody>\n",
       "</table>\n",
       "</div>"
      ],
      "text/plain": [
       "       States   2012   2013   2014   2015   2016   2017   2018   2019\n",
       "0     Alabama  38687  38957  38591  39020  39211  39599  40599  41389\n",
       "1      Alaska  78952  74281  72354  72948  71091  71282  72221  74422\n",
       "2     Arizona  40929  40729  40663  41031  41669  42505  43546  44161\n",
       "3    Arkansas  36836  37771  38058  38233  38309  38432  38971  39580\n",
       "4  California  56510  58046  59915  62403  63853  66331  68970  70662"
      ]
     },
     "execution_count": 5,
     "metadata": {},
     "output_type": "execute_result"
    }
   ],
   "source": [
    "data.head()"
   ]
  },
  {
   "cell_type": "code",
   "execution_count": 9,
   "metadata": {},
   "outputs": [],
   "source": [
    "data.to_json (r'gdp\\gdp12to19.json', orient='records')"
   ]
  },
  {
   "cell_type": "code",
   "execution_count": null,
   "metadata": {},
   "outputs": [],
   "source": []
  }
 ],
 "metadata": {
  "kernelspec": {
   "display_name": "Python 3",
   "language": "python",
   "name": "python3"
  },
  "language_info": {
   "codemirror_mode": {
    "name": "ipython",
    "version": 3
   },
   "file_extension": ".py",
   "mimetype": "text/x-python",
   "name": "python",
   "nbconvert_exporter": "python",
   "pygments_lexer": "ipython3",
   "version": "3.7.6"
  }
 },
 "nbformat": 4,
 "nbformat_minor": 4
}
